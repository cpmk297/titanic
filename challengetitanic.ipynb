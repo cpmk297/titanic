{
 "cells": [
  {
   "cell_type": "markdown",
   "id": "bf82dad6-b0c5-4e5e-9429-2e5bca844a8c",
   "metadata": {
    "panel-layout": {
     "height": 127.83750915527344,
     "visible": true,
     "width": 100
    }
   },
   "source": [
    "# Prédiction de la survie ou non des passagers du titanic\n",
    "\n",
    "L'objectif de ce projet est de prédire la survie ou non des passagers du titanic."
   ]
  },
  {
   "cell_type": "markdown",
   "id": "b9d274ae-d26f-4517-861d-a5f28fade6d0",
   "metadata": {},
   "source": [
    "## Prétraitement des données"
   ]
  },
  {
   "cell_type": "markdown",
   "id": "304c5253-5565-4a76-a402-aeaec0da6836",
   "metadata": {
    "panel-layout": {
     "height": 51.13750076293945,
     "visible": true,
     "width": 100
    }
   },
   "source": [
    "**Chargement des données**"
   ]
  },
  {
   "cell_type": "code",
   "execution_count": 66,
   "id": "8c9a5916-b60f-4e7f-9ebc-ddaab01dd544",
   "metadata": {},
   "outputs": [
    {
     "data": {
      "text/html": [
       "<div>\n",
       "<style scoped>\n",
       "    .dataframe tbody tr th:only-of-type {\n",
       "        vertical-align: middle;\n",
       "    }\n",
       "\n",
       "    .dataframe tbody tr th {\n",
       "        vertical-align: top;\n",
       "    }\n",
       "\n",
       "    .dataframe thead th {\n",
       "        text-align: right;\n",
       "    }\n",
       "</style>\n",
       "<table border=\"1\" class=\"dataframe\">\n",
       "  <thead>\n",
       "    <tr style=\"text-align: right;\">\n",
       "      <th></th>\n",
       "      <th>PassengerId</th>\n",
       "      <th>Survived</th>\n",
       "      <th>Pclass</th>\n",
       "      <th>Name</th>\n",
       "      <th>Sex</th>\n",
       "      <th>Age</th>\n",
       "      <th>SibSp</th>\n",
       "      <th>Parch</th>\n",
       "      <th>Ticket</th>\n",
       "      <th>Fare</th>\n",
       "      <th>Cabin</th>\n",
       "      <th>Embarked</th>\n",
       "    </tr>\n",
       "  </thead>\n",
       "  <tbody>\n",
       "    <tr>\n",
       "      <th>886</th>\n",
       "      <td>887</td>\n",
       "      <td>0</td>\n",
       "      <td>2</td>\n",
       "      <td>Montvila, Rev. Juozas</td>\n",
       "      <td>male</td>\n",
       "      <td>27.0</td>\n",
       "      <td>0</td>\n",
       "      <td>0</td>\n",
       "      <td>211536</td>\n",
       "      <td>13.00</td>\n",
       "      <td>NaN</td>\n",
       "      <td>S</td>\n",
       "    </tr>\n",
       "    <tr>\n",
       "      <th>887</th>\n",
       "      <td>888</td>\n",
       "      <td>1</td>\n",
       "      <td>1</td>\n",
       "      <td>Graham, Miss. Margaret Edith</td>\n",
       "      <td>female</td>\n",
       "      <td>19.0</td>\n",
       "      <td>0</td>\n",
       "      <td>0</td>\n",
       "      <td>112053</td>\n",
       "      <td>30.00</td>\n",
       "      <td>B42</td>\n",
       "      <td>S</td>\n",
       "    </tr>\n",
       "    <tr>\n",
       "      <th>888</th>\n",
       "      <td>889</td>\n",
       "      <td>0</td>\n",
       "      <td>3</td>\n",
       "      <td>Johnston, Miss. Catherine Helen \"Carrie\"</td>\n",
       "      <td>female</td>\n",
       "      <td>NaN</td>\n",
       "      <td>1</td>\n",
       "      <td>2</td>\n",
       "      <td>W./C. 6607</td>\n",
       "      <td>23.45</td>\n",
       "      <td>NaN</td>\n",
       "      <td>S</td>\n",
       "    </tr>\n",
       "    <tr>\n",
       "      <th>889</th>\n",
       "      <td>890</td>\n",
       "      <td>1</td>\n",
       "      <td>1</td>\n",
       "      <td>Behr, Mr. Karl Howell</td>\n",
       "      <td>male</td>\n",
       "      <td>26.0</td>\n",
       "      <td>0</td>\n",
       "      <td>0</td>\n",
       "      <td>111369</td>\n",
       "      <td>30.00</td>\n",
       "      <td>C148</td>\n",
       "      <td>C</td>\n",
       "    </tr>\n",
       "    <tr>\n",
       "      <th>890</th>\n",
       "      <td>891</td>\n",
       "      <td>0</td>\n",
       "      <td>3</td>\n",
       "      <td>Dooley, Mr. Patrick</td>\n",
       "      <td>male</td>\n",
       "      <td>32.0</td>\n",
       "      <td>0</td>\n",
       "      <td>0</td>\n",
       "      <td>370376</td>\n",
       "      <td>7.75</td>\n",
       "      <td>NaN</td>\n",
       "      <td>Q</td>\n",
       "    </tr>\n",
       "  </tbody>\n",
       "</table>\n",
       "</div>"
      ],
      "text/plain": [
       "     PassengerId  Survived  Pclass                                      Name  \\\n",
       "886          887         0       2                     Montvila, Rev. Juozas   \n",
       "887          888         1       1              Graham, Miss. Margaret Edith   \n",
       "888          889         0       3  Johnston, Miss. Catherine Helen \"Carrie\"   \n",
       "889          890         1       1                     Behr, Mr. Karl Howell   \n",
       "890          891         0       3                       Dooley, Mr. Patrick   \n",
       "\n",
       "        Sex   Age  SibSp  Parch      Ticket   Fare Cabin Embarked  \n",
       "886    male  27.0      0      0      211536  13.00   NaN        S  \n",
       "887  female  19.0      0      0      112053  30.00   B42        S  \n",
       "888  female   NaN      1      2  W./C. 6607  23.45   NaN        S  \n",
       "889    male  26.0      0      0      111369  30.00  C148        C  \n",
       "890    male  32.0      0      0      370376   7.75   NaN        Q  "
      ]
     },
     "metadata": {},
     "output_type": "display_data"
    }
   ],
   "source": [
    "import pandas as pd \n",
    "import numpy as np\n",
    "import joblib\n",
    "\n",
    "titanic_train= pd.read_csv(\"C:/Users/ccppm/Downloads/DATASETS/titanic/train.csv\")\n",
    "titanic_test= pd.read_csv(\"C:/Users/ccppm/Downloads/DATASETS/titanic/test.csv\")\n",
    "display(titanic_train.tail())\n",
    "#titanic_train.describe()"
   ]
  },
  {
   "cell_type": "markdown",
   "id": "cbfb3305-1352-43b5-a017-d393728f1ee2",
   "metadata": {
    "panel-layout": {
     "height": 51.13750076293945,
     "visible": true,
     "width": 100
    }
   },
   "source": [
    "On va ensuite extraire les variables cibles et les variables explicatives."
   ]
  },
  {
   "cell_type": "markdown",
   "id": "f092f4a8-fefa-46ee-8462-028814ec13c2",
   "metadata": {
    "panel-layout": {
     "height": 51.13750076293945,
     "visible": true,
     "width": 100
    }
   },
   "source": [
    "**On compte ensuite le pourcentage de valeurs manquantes dans chaque colonne**"
   ]
  },
  {
   "cell_type": "code",
   "execution_count": 6,
   "id": "f22ed0b2-08e1-46ef-b46a-d028ef562c11",
   "metadata": {
    "panel-layout": {
     "height": 727.2000122070312,
     "visible": true,
     "width": 100
    }
   },
   "outputs": [
    {
     "data": {
      "text/plain": [
       "PassengerId     0.000000\n",
       "Survived        0.000000\n",
       "Pclass          0.000000\n",
       "Name            0.000000\n",
       "Sex             0.000000\n",
       "Age            14.750000\n",
       "SibSp           0.000000\n",
       "Parch           0.000000\n",
       "Ticket          0.000000\n",
       "Fare            0.000000\n",
       "Cabin          57.250000\n",
       "Embarked        0.166667\n",
       "dtype: float64"
      ]
     },
     "execution_count": 6,
     "metadata": {},
     "output_type": "execute_result"
    }
   ],
   "source": [
    "def missing_values(df):\n",
    "    missing= df.isnull().sum()\n",
    "    return missing/len(df.columns)\n",
    "\n",
    "missing_values(titanic_train)\n",
    "\n"
   ]
  },
  {
   "cell_type": "markdown",
   "id": "5542ab5a-06ed-41f7-9fc6-a0a5c0af377d",
   "metadata": {
    "panel-layout": {
     "height": 119.6875,
     "visible": true,
     "width": 100
    }
   },
   "source": [
    "On constate qu'il y'a le pourcentage élevée de données manquantes pour la variable cabin.\n",
    "On va donc décider de la supprimer.\n",
    "Pour la variable age, on pas remplacer les valeurs manquantes par la moyenne à l'aide de SimpleInmputer pour éviter que les outliers influencent l'imputation.\n"
   ]
  },
  {
   "cell_type": "code",
   "execution_count": 8,
   "id": "f7c366d8-a1c8-4ae2-8377-2917b3020c59",
   "metadata": {},
   "outputs": [],
   "source": [
    "X= titanic_train.drop(columns=['PassengerId','Name', 'Ticket', 'Cabin','Survived'])\n",
    "y= titanic_train['Survived']"
   ]
  },
  {
   "cell_type": "code",
   "execution_count": 10,
   "id": "2bf529a4-ffb4-4dd7-95e5-82053dd0a444",
   "metadata": {},
   "outputs": [],
   "source": [
    "from sklearn.impute import SimpleImputer\n",
    "from sklearn.preprocessing import StandardScaler\n",
    "from sklearn.preprocessing import OneHotEncoder\n",
    "from sklearn.preprocessing import MultiLabelBinarizer\n",
    "from sklearn.compose import make_column_selector\n",
    "from sklearn.compose import make_column_transformer\n",
    "from sklearn.pipeline import make_pipeline\n",
    "\n",
    "\n",
    "#On sépare les variables numériques et les variables catégorielles\n",
    "num_selector= make_column_selector(dtype_include= np.number)\n",
    "cat_selector= make_column_selector(dtype_exclude= np.number)\n",
    "\n",
    "#Ensuite en fonction des variables, on applique une chaine de transformation\n",
    "num_pipeline= make_pipeline(SimpleImputer(strategy='mean'), StandardScaler()) #On remplace les valeurs manquantes par la moyenne et on normalise\n",
    "cat_pipeline= make_pipeline(SimpleImputer(strategy='most_frequent'), OneHotEncoder()) #On remplace les valeurs mannquantes par les valeurs les plus frequentes\n",
    "\n",
    "#Ensuite, on applique la transformation sur les variables du jeu de données\n",
    "\n",
    "transformer= make_column_transformer((num_pipeline, num_selector),(cat_pipeline, cat_selector))\n",
    "X_new=transformer.fit_transform(X)"
   ]
  },
  {
   "cell_type": "code",
   "execution_count": 12,
   "id": "489094ab-3bc4-4c74-9a9f-8dc4c7bc885b",
   "metadata": {},
   "outputs": [],
   "source": [
    "from sklearn.model_selection import train_test_split\n",
    "\n",
    "X_train, X_test, y_train, y_test= train_test_split(X_new, y, test_size= 0.2, random_state= 2024)"
   ]
  },
  {
   "cell_type": "markdown",
   "id": "acf7bd06-4436-428d-8bdf-bfbe736ef614",
   "metadata": {},
   "source": [
    "## Premier modèle: Un SVM"
   ]
  },
  {
   "cell_type": "code",
   "execution_count": 14,
   "id": "7b070f10-b47e-4928-8935-3029ba3b9a5a",
   "metadata": {},
   "outputs": [
    {
     "name": "stdout",
     "output_type": "stream",
     "text": [
      "le score sur les données train est: 0.8398876404494382\n"
     ]
    }
   ],
   "source": [
    "# Un premier modèle: SVM\n",
    "\n",
    "from sklearn.svm import SVC\n",
    "model1= SVC(kernel='rbf')\n",
    "model1.fit(X_train, y_train) #On entraine le modèle\n",
    "print('le score sur les données train est: '+ str(model1.score(X_train, y_train)))"
   ]
  },
  {
   "cell_type": "code",
   "execution_count": 16,
   "id": "e0acb0cc-2e81-4253-bd9b-3f8fd4fd8b4a",
   "metadata": {},
   "outputs": [
    {
     "name": "stdout",
     "output_type": "stream",
     "text": [
      "le score sur le test est:  0.8212290502793296\n"
     ]
    }
   ],
   "source": [
    "# Evaluation du modèle sur mon test\n",
    "\n",
    "from sklearn.metrics import confusion_matrix\n",
    "from sklearn.metrics import accuracy_score\n",
    "\n",
    "y_pred= model1.predict(X_test)\n",
    "test_score= accuracy_score(y_test, y_pred)\n",
    "print('le score sur le test est: ', str(test_score))"
   ]
  },
  {
   "cell_type": "code",
   "execution_count": 18,
   "id": "dcce308f-6d54-49f3-8a0d-7118153e607c",
   "metadata": {},
   "outputs": [],
   "source": [
    "# Evaluation du modèle sur le test du challenge\n",
    "\n",
    "input_test= titanic_test.drop(columns=['PassengerId','Name', 'Ticket', 'Cabin'])\n",
    "input_test_new= transformer.fit_transform(input_test) #On applique la meme transformation qu'en dessus\n",
    "\n",
    "challenge_pred= model1.predict(input_test_new)\n",
    "challenge_pred\n",
    "\n",
    "\n",
    "result= {'PassengerId': titanic_test['PassengerId'], 'Survived': challenge_pred }\n",
    "result_default_svm= pd.DataFrame(data= result, columns= ['PassengerId','Survived'])\n",
    "\n",
    "import os\n",
    "\n",
    "result_default_svm.to_csv('result_default_svm.csv', index=False)\n",
    "#print(os.getcwd())\n",
    "#print(resultt)\n",
    "\n",
    "\n"
   ]
  },
  {
   "cell_type": "markdown",
   "id": "2e4d3f9b-e1fd-446e-8f46-f4a2e22248c5",
   "metadata": {},
   "source": [
    "**Apres soumission du challenge, on obtient un score de 0.77272 qu'on va essayer d'améliorer par validation croisée dans un premier temps et ensuite en explorant d'autres modèles**"
   ]
  },
  {
   "cell_type": "markdown",
   "id": "ad68688f-5ac0-4f61-91ed-d61071a89763",
   "metadata": {},
   "source": [
    "Tout d'abord pour la valeur par défaut de la constante de régularisation le meilleur modèle est avec le noyau Gaussien\n",
    "Par la suite nous allons utiliser comme noyau, le noyau Gaussien"
   ]
  },
  {
   "cell_type": "code",
   "execution_count": null,
   "id": "d176b244-5be3-4f10-b7db-b3d035e32e69",
   "metadata": {},
   "outputs": [],
   "source": [
    "### Validation croisée"
   ]
  },
  {
   "cell_type": "code",
   "execution_count": 20,
   "id": "de70b553-999f-4afb-a9fb-c745ca02108b",
   "metadata": {
    "scrolled": true
   },
   "outputs": [],
   "source": [
    "from sklearn.model_selection import cross_val_score\n",
    "from sklearn.model_selection import validation_curve\n",
    "from sklearn.model_selection import GridSearchCV\n"
   ]
  },
  {
   "cell_type": "markdown",
   "id": "1689d1d0-688c-474c-9047-a176f57a88a4",
   "metadata": {},
   "source": [
    "**Avec une boucle et cross_val_score on affiche le score de validation croisée.**"
   ]
  },
  {
   "cell_type": "code",
   "execution_count": 22,
   "id": "18873f16-89a8-4f92-8bff-838538da2775",
   "metadata": {},
   "outputs": [
    {
     "data": {
      "text/plain": [
       "<matplotlib.legend.Legend at 0x2813a52ffb0>"
      ]
     },
     "execution_count": 22,
     "metadata": {},
     "output_type": "execute_result"
    },
    {
     "data": {
      "image/png": "[encoded data removed]",
      "text/plain": [
       "<Figure size 640x480 with 1 Axes>"
      ]
     },
     "metadata": {},
     "output_type": "display_data"
    }
   ],
   "source": [
    "import matplotlib.pyplot as plt\n",
    "\n",
    "sc1= []\n",
    "for k in np.arange(0.1,10,0.5):\n",
    "    Model2= SVC(kernel='rbf', C=k)\n",
    "    train_val_score= cross_val_score(Model2, X_train, y_train, cv= 5).mean()\n",
    "    sc1.append(train_val_score)\n",
    "plt.figure()\n",
    "plt.xlabel('Valeur de C')\n",
    "plt.ylabel('Score de cross validation')\n",
    "plt.plot(np.arange(0.1,10,0.5), sc1, label='Score de cross validation en fonction de C')\n",
    "plt.legend()"
   ]
  },
  {
   "cell_type": "markdown",
   "id": "9a8b2e59-4467-4463-8b31-a31b02bb7ce5",
   "metadata": {},
   "source": [
    "On observe que d'apres le graphique la valeur optimale pour C est proche de 2."
   ]
  },
  {
   "cell_type": "markdown",
   "id": "83b98ec3-fa6e-4f08-b44c-3e366eca47db",
   "metadata": {},
   "source": [
    "**A l'aide de la fonction validation_curve, on va tracer le meme graphique.**"
   ]
  },
  {
   "cell_type": "code",
   "execution_count": 24,
   "id": "faabbf27-d3c3-48bc-b9d1-f8467e3a760e",
   "metadata": {},
   "outputs": [
    {
     "data": {
      "image/png": "[encoded data removed]",
      "text/plain": [
       "<Figure size 640x480 with 1 Axes>"
      ]
     },
     "metadata": {},
     "output_type": "display_data"
    }
   ],
   "source": [
    "C= np.arange(0.1,10,0.5)\n",
    "train_score, val_score= validation_curve(SVC(kernel='rbf'),X_train, y_train,param_name='C', param_range=C, cv=5)\n",
    "plt.figure()\n",
    "plt.plot(C, val_score.mean(axis=1), label='score de validation')\n",
    "plt.plot(C, train_score.mean(axis=1), label='score du test')\n",
    "plt.xlabel('C')\n",
    "plt.ylabel('score')\n",
    "plt.legend()\n",
    "plt.show()"
   ]
  },
  {
   "cell_type": "markdown",
   "id": "fc734213-d169-4e00-b0e5-587e9babe376",
   "metadata": {},
   "source": [
    "On constate que sur la plage des valeurs de C, il n'y a pas de surajustement"
   ]
  },
  {
   "cell_type": "markdown",
   "id": "c64b9fbb-9bb8-403f-b30d-edf70525ce6e",
   "metadata": {},
   "source": [
    "**On va ensuite faire une validation croisée sur les paramètres de régularisation C et le noyau à l'aide d'une grille afin de trouver le modèle qui a de bonnes performances sur de nouvelles données.**"
   ]
  },
  {
   "cell_type": "code",
   "execution_count": 26,
   "id": "dda1d90e-ae7a-41c1-9fd2-c6aaaa3d7fc3",
   "metadata": {},
   "outputs": [
    {
     "name": "stdout",
     "output_type": "stream",
     "text": [
      "le meilleur modèle est:  SVC(C=2.6)\n",
      "le meilleur score est:  0.825844577957254\n",
      "le meilleur paramètre est:  {'C': 2.6, 'kernel': 'rbf'}\n"
     ]
    }
   ],
   "source": [
    "params= {'C': np.arange(0.1,10,0.5), 'kernel':['linear', 'rbf', 'sigmoid', 'poly']}\n",
    "grid= GridSearchCV(SVC(), params, cv=5)\n",
    "grid.fit(X_train, y_train)\n",
    "print('le meilleur modèle est: ', str(grid.best_estimator_))\n",
    "print('le meilleur score est: ', str(grid.best_score_))\n",
    "print('le meilleur paramètre est: ', str(grid.best_params_))"
   ]
  },
  {
   "cell_type": "markdown",
   "id": "ec152ebb-6482-4048-bede-4d0c30dc9a62",
   "metadata": {},
   "source": [
    "**Par validation croisée, le meilleur modèle est obtenu avec C=2.6 et kernel='rbf'. On va ensuite utiliser ce modèle pour obtenir le score sur le test.**\n"
   ]
  },
  {
   "cell_type": "code",
   "execution_count": 28,
   "id": "0c8b0413-0fe0-459f-855b-cea177177b5f",
   "metadata": {},
   "outputs": [
    {
     "name": "stdout",
     "output_type": "stream",
     "text": [
      "le score sur le test pour le nouveau modèle est:  0.8212290502793296\n"
     ]
    }
   ],
   "source": [
    "\n",
    "model1= grid.best_estimator_\n",
    "y_pred= model1.predict(X_test)\n",
    "test_score= accuracy_score(y_test, y_pred)\n",
    "print('le score sur le test pour le nouveau modèle est: ', str(model1.score(X_test, y_test)))"
   ]
  },
  {
   "cell_type": "code",
   "execution_count": null,
   "id": "84ffba8b-3578-4eea-96ac-40f058b9d7c9",
   "metadata": {},
   "outputs": [],
   "source": [
    "On obtient le meme score."
   ]
  },
  {
   "cell_type": "markdown",
   "id": "6de37a68-7447-4064-b71d-d5365b3b3556",
   "metadata": {},
   "source": [
    "## DEUXIEME MODELE: LES FORETS ALEATOIRES"
   ]
  },
  {
   "cell_type": "code",
   "execution_count": 32,
   "id": "ea9ffa3b-2318-4d89-8d6c-9be6255013f5",
   "metadata": {},
   "outputs": [],
   "source": [
    "from sklearn.ensemble import RandomForestClassifier"
   ]
  },
  {
   "cell_type": "code",
   "execution_count": 34,
   "id": "a7d2e6d3-53fa-4b3e-99c4-20a8bbef6fd2",
   "metadata": {},
   "outputs": [
    {
     "name": "stdout",
     "output_type": "stream",
     "text": [
      "le score sur les données test est : 0.8100558659217877\n"
     ]
    }
   ],
   "source": [
    "model2= RandomForestClassifier()\n",
    "model2.fit(X_train, y_train)\n",
    "model2.score(X_train, y_train)\n",
    "print(\"le score sur les données test est : \"+ str(model2.score(X_test, y_test)))"
   ]
  },
  {
   "cell_type": "markdown",
   "id": "fdceba0f-f5f1-4489-b35d-bff45e128aea",
   "metadata": {},
   "source": [
    "Le modèle généralise moins sur de nouvelles données pour les valeurs par défaut.\n",
    "On va donc procéder par une validation croisée pour trouver les paramètres sur de nouvelles données."
   ]
  },
  {
   "cell_type": "markdown",
   "id": "cbf89f74-3c91-4dac-b340-f74a1ffaba66",
   "metadata": {},
   "source": [
    "### Validation croisée"
   ]
  },
  {
   "cell_type": "code",
   "execution_count": 39,
   "id": "d6328a58-220f-4a0a-9db7-cddd719b7ed2",
   "metadata": {},
   "outputs": [
    {
     "data": {
      "image/png": "[encoded data removed]",
      "text/plain": [
       "<Figure size 640x480 with 1 Axes>"
      ]
     },
     "metadata": {},
     "output_type": "display_data"
    }
   ],
   "source": [
    "### Courbe de validation\n",
    "\n",
    "param_name= 'n_estimators'\n",
    "params_range= np.arange(1, 100)\n",
    "train_score2, val_score2= validation_curve(RandomForestClassifier(), X_train, y_train, param_name= param_name, param_range= params_range, cv= 5 )\n",
    "\n",
    "plt.figure()\n",
    "plt.plot(params_range, val_score2.mean(axis=1), label='score de validation')\n",
    "plt.plot(params_range, train_score2.mean(axis=1), label='score du train')\n",
    "plt.xlabel(\"nombres d'arbres\")\n",
    "plt.ylabel('score')\n",
    "plt.legend()\n",
    "plt.show()\n"
   ]
  },
  {
   "cell_type": "code",
   "execution_count": 42,
   "id": "063ab93b-bce1-4ffe-bf5b-3eb362f04e74",
   "metadata": {},
   "outputs": [
    {
     "name": "stdout",
     "output_type": "stream",
     "text": [
      "RandomForestClassifier(n_estimators=29)\n",
      "{'n_estimators': 29}\n",
      "0.8272431793558555\n"
     ]
    }
   ],
   "source": [
    "### GridSearchCV\n",
    "params2= {'n_estimators': np.arange(1, 100) }\n",
    "grid2= GridSearchCV(RandomForestClassifier(), params2, cv=5)\n",
    "grid2.fit(X_train, y_train)\n",
    "print(grid2.best_estimator_)\n",
    "print(grid2.best_params_)\n",
    "print(grid2.best_score_)"
   ]
  },
  {
   "cell_type": "code",
   "execution_count": 44,
   "id": "5018fb97-bfde-423b-8e1d-b06e7af285e7",
   "metadata": {},
   "outputs": [
    {
     "name": "stdout",
     "output_type": "stream",
     "text": [
      "le meilleur modèle est: RandomForestClassifier(n_estimators=29)\n",
      "les meilleur paramètre est: {'n_estimators': 29}\n",
      "le score pour le meilleur modèle sur le train est 0.8272431793558555\n"
     ]
    }
   ],
   "source": [
    "print(\"le meilleur modèle est: \" +str(grid2.best_estimator_))\n",
    "print(\"les meilleur paramètre est: \" + str(grid2.best_params_))\n",
    "print(\"le score pour le meilleur modèle sur le train est\", str(grid2.best_score_))"
   ]
  },
  {
   "cell_type": "code",
   "execution_count": 46,
   "id": "948f6d9f-a6d5-426d-835c-9aa49138edca",
   "metadata": {},
   "outputs": [
    {
     "name": "stdout",
     "output_type": "stream",
     "text": [
      "le score sur le test pour le meilleur modèle est:  0.7932960893854749\n"
     ]
    }
   ],
   "source": [
    "model2= grid2.best_estimator_\n",
    "model2.fit(X_train, y_train)\n",
    "print(\"le score sur le test pour le meilleur modèle est: \", str(model2.score(X_test, y_test)))"
   ]
  },
  {
   "cell_type": "markdown",
   "id": "04bc204c-3fa9-41e0-b052-b6a232d0a6b3",
   "metadata": {},
   "source": [
    "## TROISIEME MODELE: L'ADABOOST"
   ]
  },
  {
   "cell_type": "markdown",
   "id": "74dd2d7e-65cc-432b-8eb0-d88f658e8214",
   "metadata": {},
   "source": [
    "Dans un premier temps, on va implémenter avec les valeurs par défaut. \n",
    "Ensuite, on va procéder à la validation croisée."
   ]
  },
  {
   "cell_type": "code",
   "execution_count": 50,
   "id": "78ede802-70eb-4d94-9adc-f974d3a9486d",
   "metadata": {},
   "outputs": [
    {
     "name": "stdout",
     "output_type": "stream",
     "text": [
      "le score du modèle sur le train est: 0.8146067415730337\n",
      "le score du modèle sur le test est: 0.7877094972067039\n"
     ]
    }
   ],
   "source": [
    "from sklearn.ensemble import AdaBoostClassifier\n",
    "\n",
    "model3= AdaBoostClassifier(algorithm='SAMME')\n",
    "model3.fit(X_train, y_train)\n",
    "print(\"le score du modèle sur le train est: \"+ str(model3.score(X_train, y_train)))\n",
    "print(\"le score du modèle sur le test est: \"+ str(model3.score(X_test, y_test)))"
   ]
  },
  {
   "cell_type": "markdown",
   "id": "80f697fd-dcb0-493d-b7d5-65441f977357",
   "metadata": {},
   "source": [
    "Le score obtenu sur le test n'est pas satisfaisant par rapport aux autres modèles, on va donc procéder à une validation croisée."
   ]
  },
  {
   "cell_type": "markdown",
   "id": "412aa640-c18f-4684-a356-6a1df5dc6a41",
   "metadata": {},
   "source": [
    "### Validation croisée"
   ]
  },
  {
   "cell_type": "code",
   "execution_count": 52,
   "id": "f7a99a84-e0e6-4e02-bc43-45ed34549c14",
   "metadata": {},
   "outputs": [
    {
     "name": "stdout",
     "output_type": "stream",
     "text": [
      "le meilleur modèle ADABOOST est: AdaBoostClassifier(algorithm='SAMME', learning_rate=0.2, n_estimators=200)\n",
      "le score du meilleur modèle ADABOOST est: 0.8005515611149414\n",
      "les meilleurs combinaisons de paramètres du modèle ADABOOST sont: {'learning_rate': 0.2, 'n_estimators': 200}\n"
     ]
    }
   ],
   "source": [
    "param= {'n_estimators': [50,100,150,200,250,300, 350, 400] , 'learning_rate':[0.01,0.05,0.1,0.2, 0.25, 0.3]}\n",
    "grid3= GridSearchCV(model3, param_grid=param, cv=5)\n",
    "grid3.fit(X_train, y_train)\n",
    "print(\"le meilleur modèle ADABOOST est: \"+ str(grid3.best_estimator_))\n",
    "print(\"le score du meilleur modèle ADABOOST est: \"+ str(grid3.best_score_))\n",
    "print(\"les meilleurs combinaisons de paramètres du modèle ADABOOST sont: \"+ str(grid3.best_params_))"
   ]
  },
  {
   "cell_type": "code",
   "execution_count": 54,
   "id": "8c15157c-f55a-4f42-8302-642961abfef2",
   "metadata": {},
   "outputs": [
    {
     "name": "stdout",
     "output_type": "stream",
     "text": [
      "le score sur le test pour le meilleur modèle est:  0.8044692737430168\n"
     ]
    }
   ],
   "source": [
    "model3= grid3.best_estimator_\n",
    "model3.fit(X_train, y_train)\n",
    "print(\"le score sur le test pour le meilleur modèle est: \", str(model3.score(X_test, y_test)))"
   ]
  },
  {
   "cell_type": "markdown",
   "id": "819363cd-a1b1-4c7a-86e6-055d6d0c23e9",
   "metadata": {},
   "source": [
    "## QUATRIEME MODELE: le Gradient Boosting"
   ]
  },
  {
   "cell_type": "code",
   "execution_count": 56,
   "id": "ece56a27-6e58-4d33-9392-773df00c5717",
   "metadata": {},
   "outputs": [],
   "source": [
    "from sklearn.ensemble import GradientBoostingClassifier"
   ]
  },
  {
   "cell_type": "markdown",
   "id": "0d5dea35-9748-4727-83c4-e532c1b7e352",
   "metadata": {},
   "source": [
    "Dans un premier temps, on va implémenter avec les valeurs par défaut. \n",
    "Ensuite, on va procéder à la validation croisée."
   ]
  },
  {
   "cell_type": "code",
   "execution_count": 58,
   "id": "111ade8b-40b4-480e-89a8-25ca4c3e9794",
   "metadata": {},
   "outputs": [
    {
     "name": "stdout",
     "output_type": "stream",
     "text": [
      "le score du modèle sur le train est: 0.901685393258427\n",
      "le score du modèle sur le test est: 0.8156424581005587\n"
     ]
    }
   ],
   "source": [
    "model4= GradientBoostingClassifier()\n",
    "model4.fit(X_train, y_train)\n",
    "print(\"le score du modèle sur le train est: \"+ str(model4.score(X_train, y_train)))\n",
    "print(\"le score du modèle sur le test est: \"+ str(model4.score(X_test, y_test)))"
   ]
  },
  {
   "cell_type": "markdown",
   "id": "f9f09982-7965-45d5-9b3f-de8605aaf117",
   "metadata": {},
   "source": [
    "Ce modèle est celui qui surajuste le plus par rapport aux modèles précédents.\n",
    "On va donc procéder à une validation croisée."
   ]
  },
  {
   "cell_type": "markdown",
   "id": "30cdd9d3-af0e-4e26-8d5c-e881f5595b95",
   "metadata": {},
   "source": [
    "### Validation croisée"
   ]
  },
  {
   "cell_type": "code",
   "execution_count": 60,
   "id": "6c0840f9-e039-445f-9456-b8cd46f8c5c7",
   "metadata": {},
   "outputs": [
    {
     "name": "stdout",
     "output_type": "stream",
     "text": [
      "le meilleur modèle GB est: GradientBoostingClassifier(learning_rate=0.2)\n",
      "le score du meilleur modèle GB est: 0.8216389244558258\n",
      "les meilleurs combinaisons de paramètres du modèle GB sont: {'learning_rate': 0.2, 'n_estimators': 100}\n"
     ]
    }
   ],
   "source": [
    "param= {'n_estimators': [50,100,150,200,250,300,350,400] , 'learning_rate':[0.001,0.01,0.05,0.1,0.2]}\n",
    "grid4= GridSearchCV(model4, param_grid=param, cv=5)\n",
    "grid4.fit(X_train, y_train)\n",
    "print(\"le meilleur modèle GB est: \"+ str(grid4.best_estimator_))\n",
    "print(\"le score du meilleur modèle GB est: \"+ str(grid4.best_score_))\n",
    "print(\"les meilleurs combinaisons de paramètres du modèle GB sont: \"+ str(grid4.best_params_))"
   ]
  },
  {
   "cell_type": "code",
   "execution_count": 62,
   "id": "939b2749-07c8-4f3f-a974-3ef3571911a2",
   "metadata": {},
   "outputs": [
    {
     "name": "stdout",
     "output_type": "stream",
     "text": [
      "le score sur le test pour le meilleur modèle est:  0.7988826815642458\n"
     ]
    }
   ],
   "source": [
    "model4= grid4.best_estimator_\n",
    "model4.fit(X_train, y_train)\n",
    "print(\"le score sur le test pour le meilleur modèle est: \", str(model4.score(X_test, y_test)))"
   ]
  },
  {
   "cell_type": "code",
   "execution_count": 223,
   "id": "8b6f8b3e-cb25-49b1-837a-1e16560372e3",
   "metadata": {},
   "outputs": [
    {
     "name": "stdout",
     "output_type": "stream",
     "text": [
      "3.12.7 | packaged by Anaconda, Inc. | (main, Oct  4 2024, 13:17:27) [MSC v.1929 64 bit (AMD64)]\n"
     ]
    }
   ],
   "source": [
    "import sys\n",
    "print(sys.version)"
   ]
  },
  {
   "cell_type": "code",
   "execution_count": 143,
   "id": "516344b9-f9f3-43e7-89c5-ea6124c71695",
   "metadata": {},
   "outputs": [
    {
     "data": {
      "text/plain": [
       "['titanic_train.joblib']"
      ]
     },
     "execution_count": 143,
     "metadata": {},
     "output_type": "execute_result"
    }
   ],
   "source": [
    "modele_final= make_pipeline(transformer, grid.best_estimator_)\n",
    "#modele_final(X_train, ytrain)\n",
    "joblib.dump(modele_final, 'model_svm.joblib')\n",
    "joblib.dump(transformer, 'transformation.joblib')\n",
    "joblib.dump(np.unique(titanic_train['Embarked'].fillna(' ', inplace=False).values), 'titanic_train.joblib')"
   ]
  },
  {
   "cell_type": "code",
   "execution_count": 133,
   "id": "2674836e-fbac-4f57-97c7-f4df1ac12fff",
   "metadata": {
    "scrolled": true
   },
   "outputs": [],
   "source": [
    "#modele_final.score(X_train, y_train)"
   ]
  },
  {
   "cell_type": "code",
   "execution_count": null,
   "id": "725dcb03-5e5f-4e36-93b8-d0f2161bd777",
   "metadata": {},
   "outputs": [],
   "source": []
  }
 ],
 "metadata": {
  "kernelspec": {
   "display_name": "Python 3 (ipykernel)",
   "language": "python",
   "name": "python3"
  },
  "language_info": {
   "codemirror_mode": {
    "name": "ipython",
    "version": 3
   },
   "file_extension": ".py",
   "mimetype": "text/x-python",
   "name": "python",
   "nbconvert_exporter": "python",
   "pygments_lexer": "ipython3",
   "version": "3.12.7"
  },
  "panel-cell-order": [
   "bf82dad6-b0c5-4e5e-9429-2e5bca844a8c",
   "304c5253-5565-4a76-a402-aeaec0da6836",
   "cbfb3305-1352-43b5-a017-d393728f1ee2",
   "f092f4a8-fefa-46ee-8462-028814ec13c2",
   "f22ed0b2-08e1-46ef-b46a-d028ef562c11",
   "5542ab5a-06ed-41f7-9fc6-a0a5c0af377d"
  ]
 },
 "nbformat": 4,
 "nbformat_minor": 5
}
